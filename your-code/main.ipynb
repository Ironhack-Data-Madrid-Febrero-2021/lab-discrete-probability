{
 "cells": [
  {
   "cell_type": "markdown",
   "metadata": {},
   "source": [
    "# Before your start:\n",
    "\n",
    "    Read the README.md file\n",
    "    Comment as much as you can and use the resources (README.md file)\n",
    "    Happy learning!\n",
    "\n",
    "*Notes:* \n",
    "\n",
    "- Solve the questions with python.\n",
    "\n",
    "- Round the final answer to three decimal places."
   ]
  },
  {
   "cell_type": "code",
   "execution_count": 104,
   "metadata": {},
   "outputs": [],
   "source": [
    "# Import libraries\n",
    "\n",
    "from scipy.stats import bernoulli\n",
    "from scipy.stats import binom\n",
    "from scipy.stats import poisson\n",
    "import seaborn as sns\n",
    "import numpy as np\n",
    "import matplotlib.pyplot as plt\n",
    "from scipy.stats import binom"
   ]
  },
  {
   "cell_type": "markdown",
   "metadata": {},
   "source": [
    "## Bernoulli's Distribution\n",
    "\n",
    "In a basket containing 100 fruits, there are 60 apples and 40 oranges. \n",
    "\n",
    "A fruit is picked randomly from the basket. \n",
    "\n",
    "1. **What is the probability that the fruit is apple?**\n",
    "1. **What is the probability that it is an orange?**"
   ]
  },
  {
   "cell_type": "code",
   "execution_count": 3,
   "metadata": {},
   "outputs": [
    {
     "name": "stdout",
     "output_type": "stream",
     "text": [
      "Probability of taking an apple: 0.6\n",
      "Probability of taking an orange: 0.4\n"
     ]
    }
   ],
   "source": [
    "# Problem info\n",
    "fruits = 100\n",
    "apple = 60\n",
    "orange = 40\n",
    "\n",
    "# Probability of taking each fruit\n",
    "p_a = apple / fruits\n",
    "p_o = orange / fruits\n",
    "\n",
    "# Print results\n",
    "print(f'Probability of taking an apple: {p_a}')\n",
    "print(f'Probability of taking an orange: {p_o}')"
   ]
  },
  {
   "cell_type": "code",
   "execution_count": 96,
   "metadata": {},
   "outputs": [
    {
     "name": "stdout",
     "output_type": "stream",
     "text": [
      "Number of apples: 68\n",
      "Number of oranges: 32\n"
     ]
    }
   ],
   "source": [
    "# Initialize the distribution for apples and oranges\n",
    "fruits_bernoulli = bernoulli(p_a)\n",
    "\n",
    "# Taking a sample of 100 observations of my distribution.\n",
    "sample = fruits_bernoulli.rvs(size=100)\n",
    "\n",
    "# Print number of apples and oranges in my sample:\n",
    "print(f'Number of apples: {list(sample).count(1)}')\n",
    "print(f'Number of oranges: {list(sample).count(0)}')"
   ]
  },
  {
   "cell_type": "code",
   "execution_count": 103,
   "metadata": {},
   "outputs": [
    {
     "data": {
      "image/png": "[encoded data removed]",
      "text/plain": [
       "<Figure size 432x288 with 1 Axes>"
      ]
     },
     "metadata": {
      "needs_background": "light"
     },
     "output_type": "display_data"
    }
   ],
   "source": [
    "x= sns.countplot(x=sample);"
   ]
  },
  {
   "cell_type": "markdown",
   "metadata": {},
   "source": [
    "Now we take a random sample of 20 fruits from the basket. After each fruit is taken, a new fruit of the same type is replaced in the basket. Therefore, every time we are taking 1 fruit from 100 fruits. \n",
    "\n",
    "1. **What is the probability that the first 5 fruits are all apples?**\n",
    "\n",
    "1. **What is the probability that the first 5 fruits are all apples and the next 15 fruits are all oranges?**\n",
    "\n",
    "You can include the `p` and `q` probabilities you previous calculated in your solution."
   ]
  },
  {
   "cell_type": "code",
   "execution_count": 17,
   "metadata": {},
   "outputs": [
    {
     "name": "stdout",
     "output_type": "stream",
     "text": [
      "Probability of taking 5 apples first: 0.078\n",
      "Probability of taking 5 apples first and 15 oranges next: 8.349e-08\n"
     ]
    }
   ],
   "source": [
    "# 1. What is the probability that the first 5 fruits are all apples?\n",
    "p_5apples = p_a ** 5\n",
    "p_5apples_round = round(p_5apples, 3)\n",
    "print(f'Probability of taking 5 apples first: {p_5apples_round}')\n",
    "\n",
    "# 2. What is the probability that the first 5 fruits are all apples and the next 15 fruits are all oranges?\n",
    "p_15oranges = p_o ** 15\n",
    "p_5apples_15oranges = p_5apples * p_15oranges\n",
    "p_5apples_15oranges_round = round(p_5apples_15oranges,11)\n",
    "print(f'Probability of taking 5 apples first and 15 oranges next: {p_5apples_15oranges_round}')\n"
   ]
  },
  {
   "cell_type": "markdown",
   "metadata": {},
   "source": [
    "## Binomial Distribution\n",
    "\n",
    "Similar to the above problem, this time again we randomly sample 20 fruits.\n",
    "\n",
    "**What is the probability that this time the sample contains 5 apples and 15 oranges?**\n",
    "\n",
    "Please note that this time the order of the fruits being picked does not matter."
   ]
  },
  {
   "cell_type": "code",
   "execution_count": 114,
   "metadata": {},
   "outputs": [
    {
     "data": {
      "image/png": "[encoded data removed]",
      "text/plain": [
       "<Figure size 432x288 with 1 Axes>"
      ]
     },
     "metadata": {
      "needs_background": "light"
     },
     "output_type": "display_data"
    }
   ],
   "source": [
    "# Setting new sample, using probability from above.\n",
    "N = 20\n",
    "p = p_a\n",
    "\n",
    "# Initialize binomial distribution\n",
    "fruits_binom = binom(N,p)\n",
    "\n",
    "# Taking a sample of 20_000 observations.\n",
    "sampleb = fruits_binom.rvs(size=20000)\n",
    "sns.countplot(x = sampleb);"
   ]
  },
  {
   "cell_type": "code",
   "execution_count": 141,
   "metadata": {},
   "outputs": [
    {
     "name": "stdout",
     "output_type": "stream",
     "text": [
      "Probability of having 5 apples and 15 oranges: 0.001\n"
     ]
    }
   ],
   "source": [
    "# Probability mass function (pmf) for having 5 apples\n",
    "p_5a_15o = round(fruits_binom.pmf(5),3)\n",
    "print(f'Probability of having 5 apples and 15 oranges: {p_5a_15o}')"
   ]
  },
  {
   "cell_type": "markdown",
   "metadata": {},
   "source": [
    "In the lesson we also discussed CDF (cumulative distribution function). In the context of the above problem, **what is the probability that less than 5 fruits picked are apples?**\n",
    "\n",
    "Write the formula and calculate the probability below."
   ]
  },
  {
   "cell_type": "code",
   "execution_count": 136,
   "metadata": {},
   "outputs": [
    {
     "name": "stdout",
     "output_type": "stream",
     "text": [
      "The probability of having less than 5 apples is:  0.002\n"
     ]
    }
   ],
   "source": [
    "# Cumulative distribution function (cdf) for having les than 5 apples\n",
    "print('The probability of having less than 5 apples is: ',round(fruits_binom.cdf(5),3))"
   ]
  },
  {
   "cell_type": "markdown",
   "metadata": {},
   "source": [
    "**Plot the PDF (probability distributiom function) for the above binomial distribution.**\n",
    "\n",
    "*Hint: The range of x in a binomial distribution is from `0` to `n`.*"
   ]
  },
  {
   "cell_type": "code",
   "execution_count": 143,
   "metadata": {},
   "outputs": [
    {
     "data": {
      "image/png": "[encoded data removed]",
      "text/plain": [
       "<Figure size 432x288 with 1 Axes>"
      ]
     },
     "metadata": {
      "needs_background": "light"
     },
     "output_type": "display_data"
    }
   ],
   "source": [
    "# Setting chart parameters\n",
    "x = np.arange(0,N)\n",
    "fig, ax = plt.subplots(1,1);\n",
    "\n",
    "# Plotting probability mass function points for 0 to 20 fruits being 1 apple and 0 orange.\n",
    "ax.plot(x, fruits_binom.pmf(x), 'bo');\n",
    "\n",
    "# Drawing lines to visualize better the plot\n",
    "ax.vlines(x, 0, fruits_binom.pmf(x), lw=5, alpha = 0.5);\n",
    "\n",
    "# Setting the title for the plot\n",
    "plt.title('Probability distribution function for fruits binomial distribution');\n"
   ]
  },
  {
   "cell_type": "markdown",
   "metadata": {},
   "source": [
    "## Poisson Distribution\n",
    "\n",
    "In this challenge you are required to use the Math library in python to solve the problems.\n",
    "\n",
    "In the UEFA champions league tournament, the average number of goals scored in a match is 2.3. \n",
    "\n",
    "**What is the probability that the number of goals scored in a match is 5?**\n",
    "\n",
    "*Hint: Use the exp() in the math library*\n",
    "\n",
    "And to calculate the factorial, you can use the following code:\n",
    "\n",
    "```python\n",
    "import math\n",
    "math.factorial(n) # n is the number you want to find the factorial of\n",
    "```"
   ]
  },
  {
   "cell_type": "code",
   "execution_count": 62,
   "metadata": {},
   "outputs": [],
   "source": [
    "# Initializate my poisson distribution with the info above.\n",
    "goals_poisson = poisson (mu = 2.3 )\n",
    "\n",
    "# Drawing a sample with .rvs with 1_000 observations.\n",
    "sample = goals_poisson.rvs(size=1000)"
   ]
  },
  {
   "cell_type": "code",
   "execution_count": 60,
   "metadata": {},
   "outputs": [
    {
     "data": {
      "image/png": "[encoded data removed]",
      "text/plain": [
       "<Figure size 432x288 with 1 Axes>"
      ]
     },
     "metadata": {
      "needs_background": "light"
     },
     "output_type": "display_data"
    }
   ],
   "source": [
    "# Checking the results with a countplot\n",
    "sns.countplot(x= sample);"
   ]
  },
  {
   "cell_type": "code",
   "execution_count": 63,
   "metadata": {},
   "outputs": [
    {
     "name": "stdout",
     "output_type": "stream",
     "text": [
      "The probability of 5 goals scored is:  0.054\n",
      "The probability of having less than 5 goals:  0.97\n"
     ]
    }
   ],
   "source": [
    "# Using .pmf(5) or probability mass function of 5 to see the probability of that event happening.\n",
    "print('The probability of 5 goals scored is: ', round(goals_poisson.pmf(5),3))\n",
    "\n",
    "# Otherwise, if we were to check the probability of having below 5 goals, we use .cdf(5) or cumulative distribution function of 5.\n",
    "print('The probability of having less than 5 goals: ', round(goals_poisson.cdf(5),3))\n"
   ]
  },
  {
   "cell_type": "markdown",
   "metadata": {},
   "source": [
    "**Draw a poisson probability distribution plot for the number of goals to be between 0 to 10.**"
   ]
  },
  {
   "cell_type": "code",
   "execution_count": 66,
   "metadata": {},
   "outputs": [
    {
     "data": {
      "image/png": "[encoded data removed]",
      "text/plain": [
       "<Figure size 432x288 with 1 Axes>"
      ]
     },
     "metadata": {
      "needs_background": "light"
     },
     "output_type": "display_data"
    }
   ],
   "source": [
    "# Setting the chart\n",
    "x = np.arange(0,11)\n",
    "fig, ax = plt.subplots(1,1);\n",
    "\n",
    "# Plotting probability mass function points for 0 to 10 goals scored.\n",
    "ax.plot(x, goals_poisson.pmf(x), 'bo');\n",
    "\n",
    "# Drawing lines to visualize better the plot\n",
    "ax.vlines(x, 0, goals_poisson.pmf(x), lw=5, alpha = 0.5);\n",
    "\n",
    "# Setting the title for the plot\n",
    "plt.title('Poisson probability distribution for goals scored in the Champions');"
   ]
  }
 ],
 "metadata": {
  "kernelspec": {
   "display_name": "Python 3",
   "language": "python",
   "name": "python3"
  },
  "language_info": {
   "codemirror_mode": {
    "name": "ipython",
    "version": 3
   },
   "file_extension": ".py",
   "mimetype": "text/x-python",
   "name": "python",
   "nbconvert_exporter": "python",
   "pygments_lexer": "ipython3",
   "version": "3.6.3"
  }
 },
 "nbformat": 4,
 "nbformat_minor": 2
}
